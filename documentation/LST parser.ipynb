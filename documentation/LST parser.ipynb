{
 "cells": [
  {
   "cell_type": "markdown",
   "metadata": {},
   "source": [
    "## This notebook serves as documentation for the COVID-19LST report plugin for outbreak.info\n",
    "The COVID-19 LST reports were no longer updated as of July 2021, hence, this code pulls from data that has been archived on github."
   ]
  },
  {
   "cell_type": "code",
   "execution_count": 1,
   "metadata": {},
   "outputs": [],
   "source": [
    "import json\n",
    "import requests"
   ]
  },
  {
   "cell_type": "markdown",
   "metadata": {},
   "source": [
    "### Download the data\n",
    "The parsed json and original pdfs can be found at: \n",
    "https://github.com/outbreak-info/covid19_LST_report_data"
   ]
  },
  {
   "cell_type": "code",
   "execution_count": 12,
   "metadata": {},
   "outputs": [
    {
     "name": "stdout",
     "output_type": "stream",
     "text": [
      "dict_keys(['@context', '@type', 'journalName', 'journalNameAbbreviation', 'publicationType', 'license', '_id', 'curatedBy', 'abstract', 'name', 'datePublished', 'url', 'author', 'isBasedOn'])\n",
      "dict_keys(['@context', '@type', 'journalName', 'journalNameAbbreviation', 'publicationType', 'license', '_id', 'curatedBy', 'abstract', 'name', 'datePublished', 'url', 'author', 'isBasedOn'])\n"
     ]
    }
   ],
   "source": [
    "def load_filenames():\n",
    "    r = requests.get('https://raw.githubusercontent.com/outbreak-info/covid19_LST_report_data/main/reportlist.txt')\n",
    "    reportlist=r.text.split('\\n')\n",
    "    formattedlist = [x.replace(\" \",\"%20\") for x in reportlist]\n",
    "    return(formattedlist)\n",
    "\n",
    "def load_annotations()\n",
    "    basejsonurl = 'https://raw.githubusercontent.com/outbreak-info/covid19_LST_report_data/main/json/'\n",
    "    formattedlist = load_filenames()\n",
    "    for eachjson in formattedlist:\n",
    "        fileurl = basejsonurl+eachjson\n",
    "        rawdoc = requests.get(fileurl)\n",
    "        doc = json.loads(rawdoc.text)\n",
    "        yield doc"
   ]
  }
 ],
 "metadata": {
  "kernelspec": {
   "display_name": "Python 3",
   "language": "python",
   "name": "python3"
  },
  "language_info": {
   "codemirror_mode": {
    "name": "ipython",
    "version": 3
   },
   "file_extension": ".py",
   "mimetype": "text/x-python",
   "name": "python",
   "nbconvert_exporter": "python",
   "pygments_lexer": "ipython3",
   "version": "3.8.5"
  }
 },
 "nbformat": 4,
 "nbformat_minor": 4
}
